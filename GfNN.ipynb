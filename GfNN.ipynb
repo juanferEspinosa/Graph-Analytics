{
  "nbformat": 4,
  "nbformat_minor": 0,
  "metadata": {
    "colab": {
      "name": "GfNN DGL.ipynb",
      "provenance": [],
      "authorship_tag": "ABX9TyPw6psTKBnVCHGcuDmDu6cQ",
      "include_colab_link": true
    },
    "kernelspec": {
      "name": "python3",
      "display_name": "Python 3"
    },
    "language_info": {
      "name": "python"
    }
  },
  "cells": [
    {
      "cell_type": "markdown",
      "metadata": {
        "id": "view-in-github",
        "colab_type": "text"
      },
      "source": [
        "<a href=\"https://colab.research.google.com/github/juanferEspinosa/Graph-Analytics/blob/main/GfNN.ipynb\" target=\"_parent\"><img src=\"https://colab.research.google.com/assets/colab-badge.svg\" alt=\"Open In Colab\"/></a>"
      ]
    },
    {
      "cell_type": "code",
      "execution_count": null,
      "metadata": {
        "colab": {
          "base_uri": "https://localhost:8080/"
        },
        "id": "cUmMlooPCe-b",
        "outputId": "46d8e630-12dd-4973-87ec-080aa5dd978e"
      },
      "outputs": [
        {
          "output_type": "stream",
          "name": "stdout",
          "text": [
            "Looking in links: https://data.dgl.ai/wheels/repo.html\n",
            "Collecting dgl\n",
            "  Downloading https://data.dgl.ai/wheels/dgl-0.7.2-cp37-cp37m-manylinux1_x86_64.whl (5.7 MB)\n",
            "\u001b[K     |████████████████████████████████| 5.7 MB 7.6 MB/s \n",
            "\u001b[?25hRequirement already satisfied: networkx>=2.1 in /usr/local/lib/python3.7/dist-packages (from dgl) (2.6.3)\n",
            "Requirement already satisfied: numpy>=1.14.0 in /usr/local/lib/python3.7/dist-packages (from dgl) (1.19.5)\n",
            "Requirement already satisfied: scipy>=1.1.0 in /usr/local/lib/python3.7/dist-packages (from dgl) (1.4.1)\n",
            "Requirement already satisfied: requests>=2.19.0 in /usr/local/lib/python3.7/dist-packages (from dgl) (2.23.0)\n",
            "Requirement already satisfied: idna<3,>=2.5 in /usr/local/lib/python3.7/dist-packages (from requests>=2.19.0->dgl) (2.10)\n",
            "Requirement already satisfied: chardet<4,>=3.0.2 in /usr/local/lib/python3.7/dist-packages (from requests>=2.19.0->dgl) (3.0.4)\n",
            "Requirement already satisfied: certifi>=2017.4.17 in /usr/local/lib/python3.7/dist-packages (from requests>=2.19.0->dgl) (2021.10.8)\n",
            "Requirement already satisfied: urllib3!=1.25.0,!=1.25.1,<1.26,>=1.21.1 in /usr/local/lib/python3.7/dist-packages (from requests>=2.19.0->dgl) (1.24.3)\n",
            "Installing collected packages: dgl\n",
            "Successfully installed dgl-0.7.2\n"
          ]
        }
      ],
      "source": [
        "!pip install dgl -f https://data.dgl.ai/wheels/repo.html"
      ]
    },
    {
      "cell_type": "code",
      "source": [
        "import dgl\n",
        "import dgl.function as fn\n",
        "from dgl import DGLGraph\n",
        "from dgl.data import CoraGraphDataset, CiteseerGraphDataset\n",
        "import torch\n",
        "import torch.nn as nn\n",
        "import torch.nn.functional as F\n",
        "import torch.optim as optim\n",
        "from torch.optim.lr_scheduler import MultiStepLR,StepLR\n",
        "\n",
        "import numpy as np\n",
        "import pandas as pd\n",
        "import scipy.sparse as sp\n",
        "import time, math\n",
        "import matplotlib.pyplot as plt\n",
        "import sys\n",
        "import itertools\n",
        "from time import perf_counter"
      ],
      "metadata": {
        "id": "NPtnsbmLC8Ni",
        "colab": {
          "base_uri": "https://localhost:8080/"
        },
        "outputId": "c0d4a110-e8a1-48c0-d2e1-ab1dd8d1d8f7"
      },
      "execution_count": null,
      "outputs": [
        {
          "output_type": "stream",
          "name": "stdout",
          "text": [
            "Setting the default backend to \"pytorch\". You can change it in the ~/.dgl/config.json file or export the DGLBACKEND environment variable.  Valid options are: pytorch, mxnet, tensorflow (all lowercase)\n"
          ]
        },
        {
          "output_type": "stream",
          "name": "stderr",
          "text": [
            "DGL backend not selected or invalid.  Assuming PyTorch for now.\n",
            "Using backend: pytorch\n"
          ]
        }
      ]
    },
    {
      "cell_type": "code",
      "source": [
        "def load(data):\n",
        "  if data == 'cora':\n",
        "    dataset = CoraGraphDataset()\n",
        "  elif data == 'citeseer':\n",
        "    dataset = CiteseerGraphDataset()\n",
        "\n",
        "  g = dataset[0]\n",
        "  features = g.ndata['feat']\n",
        "  labels = g.ndata['label']\n",
        "  train_mask = g.ndata['train_mask']\n",
        "  val_mask = g.ndata['val_mask']\n",
        "  test_mask = g.ndata['test_mask']\n",
        "  num_nodes = g.num_nodes()\n",
        "  num_edges = g.num_edges()\n",
        "  n_classes = dataset.num_classes\n",
        "  return g, features, labels, train_mask, val_mask, test_mask, num_nodes, num_edges, n_classes\n",
        "\n",
        "g, features, labels, train_mask, val_mask, test_mask, num_nodes, num_edges, n_classes = load('citeseer')"
      ],
      "metadata": {
        "colab": {
          "base_uri": "https://localhost:8080/"
        },
        "id": "PAyK2CZ1C8ke",
        "outputId": "9bce9115-edb3-4387-fcf2-8b05c604de1b"
      },
      "execution_count": null,
      "outputs": [
        {
          "output_type": "stream",
          "name": "stdout",
          "text": [
            "Downloading /root/.dgl/citeseer.zip from https://data.dgl.ai/dataset/citeseer.zip...\n",
            "Extracting file to /root/.dgl/citeseer\n"
          ]
        },
        {
          "output_type": "stream",
          "name": "stderr",
          "text": [
            "/usr/local/lib/python3.7/dist-packages/dgl/data/citation_graph.py:275: RuntimeWarning: divide by zero encountered in power\n",
            "  r_inv = np.power(rowsum, -1).flatten()\n"
          ]
        },
        {
          "output_type": "stream",
          "name": "stdout",
          "text": [
            "Finished data loading and preprocessing.\n",
            "  NumNodes: 3327\n",
            "  NumEdges: 9228\n",
            "  NumFeats: 3703\n",
            "  NumClasses: 6\n",
            "  NumTrainingSamples: 120\n",
            "  NumValidationSamples: 500\n",
            "  NumTestSamples: 1000\n",
            "Done saving data into cached files.\n"
          ]
        }
      ]
    },
    {
      "cell_type": "code",
      "source": [
        "train_split = g.ndata['train_mask'].int().sum().item()\n",
        "val_split = g.ndata['val_mask'].int().sum().item()\n",
        "test_split = g.ndata['test_mask'].int().sum().item()"
      ],
      "metadata": {
        "id": "20UYS9YpC-Em"
      },
      "execution_count": null,
      "outputs": []
    },
    {
      "cell_type": "code",
      "source": [
        "def sgc_precompute(features, g, degree):\n",
        "  g = dgl.remove_self_loop(g)\n",
        "  #g = dgl.add_self_loop(g)\n",
        "  t = perf_counter()\n",
        "  #t = time.time()\n",
        "  for i in range(degree):\n",
        "      features = torch.spmm(g.adj(), features)\n",
        "  precompute_time = perf_counter()-t\n",
        "  #precompute_time = time.time()-t\n",
        "  return features, precompute_time\n",
        "\n",
        "def normalizemx(mx):\n",
        "  \"\"\"Normalization for Scattering GCN\"\"\"\n",
        "  degs = g.in_degrees().float()\n",
        "  norm = torch.pow(degs, -1)\n",
        "  norm = torch.diag(norm)\n",
        "  print(norm.shape)\n",
        "  print(features.shape)\n",
        "  mx = torch.spmm(norm, mx)\n",
        "  return mx\n",
        "\n",
        "def evaluate(model, g, features, labels, mask):\n",
        "  model.eval()\n",
        "  with torch.no_grad():\n",
        "      logits = model(features)\n",
        "      logits = logits[mask]\n",
        "      labels = labels[mask]\n",
        "      _, indices = torch.max(logits, dim=1)\n",
        "      correct = torch.sum(indices == labels)\n",
        "      return correct.item() * 1.0 / len(labels)\n"
      ],
      "metadata": {
        "id": "HxxESkimC_pn"
      },
      "execution_count": null,
      "outputs": []
    },
    {
      "cell_type": "code",
      "source": [
        "features = normalizemx(features)\n",
        "features, aug_time = sgc_precompute(features, g, 3)\n"
      ],
      "metadata": {
        "colab": {
          "base_uri": "https://localhost:8080/"
        },
        "id": "LVsD0C76KcXe",
        "outputId": "0f7acbea-0e9a-495f-ef6b-d8ac1bd42019"
      },
      "execution_count": null,
      "outputs": [
        {
          "output_type": "stream",
          "name": "stdout",
          "text": [
            "torch.Size([3327, 3327])\n",
            "torch.Size([3327, 3703])\n"
          ]
        }
      ]
    },
    {
      "cell_type": "code",
      "source": [
        "class MLP(nn.Module):\n",
        "  \"\"\"\n",
        "  A Simple two layers MLP to make SGC a bit better.\n",
        "  \"\"\"\n",
        "  def __init__(self, in_feats, h_feats, num_classes, dp=0.2):\n",
        "    super(MLP, self).__init__()\n",
        "    self.W1 = nn.Linear(in_feats, h_feats)\n",
        "    self.W2 = nn.Linear(h_feats, num_classes)\n",
        "    self.dp = dp\n",
        "    self.act = nn.PReLU()\n",
        "    self.num_class = num_classes\n",
        "\n",
        "  def forward(self, x):\n",
        "    x = self.act(self.W1(x))\n",
        "    x = nn.Dropout(p=self.dp)(x)\n",
        "    return self.W2(x)\n",
        "\n",
        "model = MLP(features.size(1), 16, n_classes)"
      ],
      "metadata": {
        "id": "RIzgAr0zD_6U"
      },
      "execution_count": null,
      "outputs": []
    },
    {
      "cell_type": "code",
      "source": [
        "def train(g, model, nfeat, epochs):\n",
        "  optimizer = torch.optim.Adam(model.parameters(), lr=0.01)\n",
        "  best_val_acc = 0\n",
        "  best_test_acc = 0\n",
        "  loss_epoch = []\n",
        "  accTest_epoch = []\n",
        "  dur = []\n",
        "  for e in range(epochs):\n",
        "    if e> 3:\n",
        "      #t0 = time.time()\n",
        "      t0 = perf_counter()\n",
        "    # Forward\n",
        "    logits = model(features)\n",
        "\n",
        "    # Compute prediction\n",
        "    pred = logits.argmax(1)\n",
        "\n",
        "    # Compute loss\n",
        "    # Note that you should only compute the losses of the nodes in the training set.\n",
        "    loss = F.cross_entropy(logits[train_mask], labels[train_mask])\n",
        "    loss_epoch.append(loss.detach().item())\n",
        "\n",
        "    # Compute accuracy on training/validation/test\n",
        "    train_acc = (pred[train_mask] == labels[train_mask]).float().mean()\n",
        "    val_acc = (pred[val_mask] == labels[val_mask]).float().mean()\n",
        "    test_acc = (pred[test_mask] == labels[test_mask]).float().mean()\n",
        "    accTest_epoch.append(test_acc.detach().item())\n",
        "\n",
        "    # Save the best validation accuracy and the corresponding test accuracy.\n",
        "    if best_val_acc < val_acc:\n",
        "      best_val_acc = val_acc\n",
        "      best_test_acc = test_acc\n",
        "\n",
        "    # Backward\n",
        "    optimizer.zero_grad()\n",
        "    loss.backward()\n",
        "    optimizer.step()\n",
        "\n",
        "    if e > 3:\n",
        "      #dur.append(time.time() - t0)\n",
        "      dur.append(perf_counter() - t0)\n",
        "\n",
        "    if e % 5 == 0:\n",
        "        print('In epoch {} | loss: {:.3f} | val acc: {:.3f} | (best {:.3f}) | test acc: {:.3f} | (best {:.3f}) | Time(s) {:.4f}'.format(\n",
        "            e, loss.item(), val_acc, best_val_acc, test_acc, best_test_acc, np.mean(dur)))\n",
        "  test_accuracy = evaluate(model, g, features, labels, test_mask)\n",
        "  print()\n",
        "  print('---------- + ---------- ')\n",
        "  print(test_accuracy)\n",
        "  print('---------- + ---------- ')\n",
        "  return loss_epoch, accTest_epoch, test_acc.detach().item(), best_test_acc.detach().item(), np.mean(dur)"
      ],
      "metadata": {
        "id": "YYrFV-lUEujI"
      },
      "execution_count": null,
      "outputs": []
    },
    {
      "cell_type": "code",
      "source": [
        "def run(runs, g, model, features, epochs):\n",
        "  test_acc_gl = []\n",
        "  best_test_acc = []\n",
        "  losses = []\n",
        "  accTests = []\n",
        "  exec_ti = []\n",
        "  i = 0\n",
        "  for i in range(runs):\n",
        "    i += 1\n",
        "    print()\n",
        "    print('---------- + ---------- ')\n",
        "    print(\"Results for run {}.\".format(i))\n",
        "    print('---------- + ---------- ','\\n')\n",
        "    loss_epoch, accTest_epoch, test_acc, best_acc, time_s = train(g, model, features, epochs)\n",
        "    test_acc_gl.append(test_acc)\n",
        "    best_test_acc.append(best_acc)\n",
        "    # Append all losses for plotting purpose\n",
        "    losses.append(loss_epoch)\n",
        "    accTests.append(accTest_epoch)\n",
        "    exec_ti.append(time_s)\n",
        "\n",
        "  loss_all = np.array(losses)\n",
        "  accTest_all = np.array(accTests)\n",
        "  return loss_all, accTest_all, test_acc_gl, best_test_acc, exec_ti, i"
      ],
      "metadata": {
        "id": "p0JCnkaMEwWc"
      },
      "execution_count": null,
      "outputs": []
    },
    {
      "cell_type": "code",
      "source": [
        "loss_all, accTest_all, test_acc_gl, best_test_acc, times, i = run(5, g, model, features, epochs=201)"
      ],
      "metadata": {
        "colab": {
          "base_uri": "https://localhost:8080/"
        },
        "id": "YXfIMQDfEyfL",
        "outputId": "60d31a5d-ecf9-4175-c3c6-f53cca7dde51"
      },
      "execution_count": null,
      "outputs": [
        {
          "output_type": "stream",
          "name": "stdout",
          "text": [
            "\n",
            "---------- + ---------- \n",
            "Results for run 1.\n",
            "---------- + ----------  \n",
            "\n",
            "In epoch 0 | loss: 1.800 | val acc: 0.142 | (best 0.142) | test acc: 0.157 | (best 0.157) | Time(s) nan\n"
          ]
        },
        {
          "output_type": "stream",
          "name": "stderr",
          "text": [
            "/usr/local/lib/python3.7/dist-packages/numpy/core/fromnumeric.py:3373: RuntimeWarning: Mean of empty slice.\n",
            "  out=out, **kwargs)\n",
            "/usr/local/lib/python3.7/dist-packages/numpy/core/_methods.py:170: RuntimeWarning: invalid value encountered in double_scalars\n",
            "  ret = ret.dtype.type(ret / rcount)\n"
          ]
        },
        {
          "output_type": "stream",
          "name": "stdout",
          "text": [
            "In epoch 5 | loss: 1.477 | val acc: 0.362 | (best 0.362) | test acc: 0.364 | (best 0.364) | Time(s) 0.0248\n",
            "In epoch 10 | loss: 1.248 | val acc: 0.470 | (best 0.470) | test acc: 0.473 | (best 0.473) | Time(s) 0.0265\n",
            "In epoch 15 | loss: 1.021 | val acc: 0.520 | (best 0.520) | test acc: 0.512 | (best 0.512) | Time(s) 0.0265\n",
            "In epoch 20 | loss: 0.822 | val acc: 0.528 | (best 0.532) | test acc: 0.518 | (best 0.513) | Time(s) 0.0259\n",
            "In epoch 25 | loss: 0.697 | val acc: 0.538 | (best 0.542) | test acc: 0.528 | (best 0.523) | Time(s) 0.0258\n",
            "In epoch 30 | loss: 0.528 | val acc: 0.540 | (best 0.542) | test acc: 0.514 | (best 0.523) | Time(s) 0.0259\n",
            "In epoch 35 | loss: 0.432 | val acc: 0.562 | (best 0.562) | test acc: 0.537 | (best 0.537) | Time(s) 0.0269\n",
            "In epoch 40 | loss: 0.352 | val acc: 0.550 | (best 0.562) | test acc: 0.525 | (best 0.537) | Time(s) 0.0269\n",
            "In epoch 45 | loss: 0.304 | val acc: 0.564 | (best 0.564) | test acc: 0.549 | (best 0.556) | Time(s) 0.0269\n",
            "In epoch 50 | loss: 0.236 | val acc: 0.538 | (best 0.564) | test acc: 0.542 | (best 0.556) | Time(s) 0.0268\n",
            "In epoch 55 | loss: 0.205 | val acc: 0.548 | (best 0.564) | test acc: 0.531 | (best 0.556) | Time(s) 0.0268\n",
            "In epoch 60 | loss: 0.164 | val acc: 0.588 | (best 0.588) | test acc: 0.564 | (best 0.564) | Time(s) 0.0270\n",
            "In epoch 65 | loss: 0.138 | val acc: 0.578 | (best 0.588) | test acc: 0.555 | (best 0.564) | Time(s) 0.0271\n",
            "In epoch 70 | loss: 0.135 | val acc: 0.562 | (best 0.588) | test acc: 0.562 | (best 0.564) | Time(s) 0.0271\n",
            "In epoch 75 | loss: 0.091 | val acc: 0.572 | (best 0.588) | test acc: 0.574 | (best 0.564) | Time(s) 0.0274\n",
            "In epoch 80 | loss: 0.080 | val acc: 0.568 | (best 0.588) | test acc: 0.564 | (best 0.564) | Time(s) 0.0274\n",
            "In epoch 85 | loss: 0.090 | val acc: 0.544 | (best 0.588) | test acc: 0.550 | (best 0.564) | Time(s) 0.0273\n",
            "In epoch 90 | loss: 0.061 | val acc: 0.558 | (best 0.588) | test acc: 0.550 | (best 0.564) | Time(s) 0.0273\n",
            "In epoch 95 | loss: 0.054 | val acc: 0.558 | (best 0.588) | test acc: 0.567 | (best 0.564) | Time(s) 0.0273\n",
            "In epoch 100 | loss: 0.047 | val acc: 0.574 | (best 0.588) | test acc: 0.570 | (best 0.564) | Time(s) 0.0273\n",
            "In epoch 105 | loss: 0.040 | val acc: 0.568 | (best 0.592) | test acc: 0.578 | (best 0.571) | Time(s) 0.0274\n",
            "In epoch 110 | loss: 0.041 | val acc: 0.606 | (best 0.606) | test acc: 0.568 | (best 0.568) | Time(s) 0.0283\n",
            "In epoch 115 | loss: 0.021 | val acc: 0.580 | (best 0.606) | test acc: 0.568 | (best 0.568) | Time(s) 0.0288\n",
            "In epoch 120 | loss: 0.035 | val acc: 0.578 | (best 0.606) | test acc: 0.570 | (best 0.568) | Time(s) 0.0294\n",
            "In epoch 125 | loss: 0.041 | val acc: 0.586 | (best 0.606) | test acc: 0.579 | (best 0.568) | Time(s) 0.0298\n",
            "In epoch 130 | loss: 0.024 | val acc: 0.556 | (best 0.606) | test acc: 0.559 | (best 0.568) | Time(s) 0.0303\n",
            "In epoch 135 | loss: 0.027 | val acc: 0.552 | (best 0.606) | test acc: 0.544 | (best 0.568) | Time(s) 0.0308\n",
            "In epoch 140 | loss: 0.018 | val acc: 0.564 | (best 0.606) | test acc: 0.564 | (best 0.568) | Time(s) 0.0315\n",
            "In epoch 145 | loss: 0.013 | val acc: 0.584 | (best 0.606) | test acc: 0.571 | (best 0.568) | Time(s) 0.0320\n",
            "In epoch 150 | loss: 0.015 | val acc: 0.566 | (best 0.606) | test acc: 0.563 | (best 0.568) | Time(s) 0.0324\n",
            "In epoch 155 | loss: 0.015 | val acc: 0.578 | (best 0.606) | test acc: 0.576 | (best 0.568) | Time(s) 0.0330\n",
            "In epoch 160 | loss: 0.009 | val acc: 0.552 | (best 0.606) | test acc: 0.552 | (best 0.568) | Time(s) 0.0340\n",
            "In epoch 165 | loss: 0.013 | val acc: 0.582 | (best 0.606) | test acc: 0.571 | (best 0.568) | Time(s) 0.0351\n",
            "In epoch 170 | loss: 0.012 | val acc: 0.588 | (best 0.606) | test acc: 0.582 | (best 0.568) | Time(s) 0.0360\n",
            "In epoch 175 | loss: 0.013 | val acc: 0.580 | (best 0.606) | test acc: 0.579 | (best 0.568) | Time(s) 0.0367\n",
            "In epoch 180 | loss: 0.009 | val acc: 0.592 | (best 0.606) | test acc: 0.586 | (best 0.568) | Time(s) 0.0371\n",
            "In epoch 185 | loss: 0.007 | val acc: 0.574 | (best 0.606) | test acc: 0.576 | (best 0.568) | Time(s) 0.0379\n",
            "In epoch 190 | loss: 0.016 | val acc: 0.568 | (best 0.606) | test acc: 0.570 | (best 0.568) | Time(s) 0.0387\n",
            "In epoch 195 | loss: 0.007 | val acc: 0.574 | (best 0.606) | test acc: 0.573 | (best 0.568) | Time(s) 0.0394\n",
            "In epoch 200 | loss: 0.009 | val acc: 0.572 | (best 0.606) | test acc: 0.568 | (best 0.568) | Time(s) 0.0404\n",
            "\n",
            "---------- + ---------- \n",
            "0.58\n",
            "---------- + ---------- \n",
            "\n",
            "---------- + ---------- \n",
            "Results for run 2.\n",
            "---------- + ----------  \n",
            "\n",
            "In epoch 0 | loss: 0.006 | val acc: 0.588 | (best 0.588) | test acc: 0.575 | (best 0.575) | Time(s) nan\n",
            "In epoch 5 | loss: 0.004 | val acc: 0.566 | (best 0.588) | test acc: 0.567 | (best 0.575) | Time(s) 0.0790\n",
            "In epoch 10 | loss: 0.003 | val acc: 0.574 | (best 0.588) | test acc: 0.579 | (best 0.575) | Time(s) 0.0624\n",
            "In epoch 15 | loss: 0.002 | val acc: 0.572 | (best 0.588) | test acc: 0.571 | (best 0.575) | Time(s) 0.0636\n",
            "In epoch 20 | loss: 0.001 | val acc: 0.578 | (best 0.588) | test acc: 0.565 | (best 0.575) | Time(s) 0.0599\n",
            "In epoch 25 | loss: 0.015 | val acc: 0.554 | (best 0.588) | test acc: 0.555 | (best 0.575) | Time(s) 0.0588\n",
            "In epoch 30 | loss: 0.001 | val acc: 0.562 | (best 0.588) | test acc: 0.559 | (best 0.575) | Time(s) 0.0574\n",
            "In epoch 35 | loss: 0.002 | val acc: 0.560 | (best 0.588) | test acc: 0.563 | (best 0.575) | Time(s) 0.0551\n",
            "In epoch 40 | loss: 0.001 | val acc: 0.572 | (best 0.588) | test acc: 0.562 | (best 0.575) | Time(s) 0.0537\n",
            "In epoch 45 | loss: 0.001 | val acc: 0.574 | (best 0.588) | test acc: 0.559 | (best 0.575) | Time(s) 0.0534\n",
            "In epoch 50 | loss: 0.003 | val acc: 0.572 | (best 0.590) | test acc: 0.558 | (best 0.566) | Time(s) 0.0539\n",
            "In epoch 55 | loss: 0.001 | val acc: 0.562 | (best 0.590) | test acc: 0.559 | (best 0.566) | Time(s) 0.0537\n",
            "In epoch 60 | loss: 0.002 | val acc: 0.560 | (best 0.590) | test acc: 0.556 | (best 0.566) | Time(s) 0.0534\n",
            "In epoch 65 | loss: 0.001 | val acc: 0.576 | (best 0.590) | test acc: 0.548 | (best 0.566) | Time(s) 0.0525\n",
            "In epoch 70 | loss: 0.000 | val acc: 0.570 | (best 0.590) | test acc: 0.557 | (best 0.566) | Time(s) 0.0532\n",
            "In epoch 75 | loss: 0.000 | val acc: 0.564 | (best 0.590) | test acc: 0.542 | (best 0.566) | Time(s) 0.0552\n",
            "In epoch 80 | loss: 0.018 | val acc: 0.568 | (best 0.590) | test acc: 0.553 | (best 0.566) | Time(s) 0.0559\n",
            "In epoch 85 | loss: 0.000 | val acc: 0.544 | (best 0.590) | test acc: 0.548 | (best 0.566) | Time(s) 0.0560\n",
            "In epoch 90 | loss: 0.001 | val acc: 0.560 | (best 0.590) | test acc: 0.557 | (best 0.566) | Time(s) 0.0559\n",
            "In epoch 95 | loss: 0.000 | val acc: 0.564 | (best 0.590) | test acc: 0.564 | (best 0.566) | Time(s) 0.0561\n",
            "In epoch 100 | loss: 0.139 | val acc: 0.560 | (best 0.590) | test acc: 0.563 | (best 0.566) | Time(s) 0.0556\n",
            "In epoch 105 | loss: 0.000 | val acc: 0.566 | (best 0.590) | test acc: 0.570 | (best 0.566) | Time(s) 0.0561\n",
            "In epoch 110 | loss: 0.000 | val acc: 0.568 | (best 0.590) | test acc: 0.559 | (best 0.566) | Time(s) 0.0561\n",
            "In epoch 115 | loss: 0.001 | val acc: 0.560 | (best 0.590) | test acc: 0.558 | (best 0.566) | Time(s) 0.0559\n",
            "In epoch 120 | loss: 0.004 | val acc: 0.570 | (best 0.590) | test acc: 0.554 | (best 0.566) | Time(s) 0.0557\n",
            "In epoch 125 | loss: 0.001 | val acc: 0.562 | (best 0.590) | test acc: 0.550 | (best 0.566) | Time(s) 0.0555\n",
            "In epoch 130 | loss: 0.001 | val acc: 0.568 | (best 0.590) | test acc: 0.553 | (best 0.566) | Time(s) 0.0557\n",
            "In epoch 135 | loss: 0.000 | val acc: 0.564 | (best 0.590) | test acc: 0.561 | (best 0.566) | Time(s) 0.0556\n",
            "In epoch 140 | loss: 0.000 | val acc: 0.576 | (best 0.590) | test acc: 0.572 | (best 0.566) | Time(s) 0.0552\n",
            "In epoch 145 | loss: 0.000 | val acc: 0.570 | (best 0.590) | test acc: 0.573 | (best 0.566) | Time(s) 0.0549\n",
            "In epoch 150 | loss: 0.023 | val acc: 0.576 | (best 0.590) | test acc: 0.575 | (best 0.566) | Time(s) 0.0553\n",
            "In epoch 155 | loss: 0.000 | val acc: 0.580 | (best 0.590) | test acc: 0.589 | (best 0.566) | Time(s) 0.0551\n",
            "In epoch 160 | loss: 0.001 | val acc: 0.576 | (best 0.590) | test acc: 0.572 | (best 0.566) | Time(s) 0.0547\n",
            "In epoch 165 | loss: 0.000 | val acc: 0.578 | (best 0.592) | test acc: 0.582 | (best 0.571) | Time(s) 0.0544\n",
            "In epoch 170 | loss: 0.005 | val acc: 0.570 | (best 0.594) | test acc: 0.578 | (best 0.588) | Time(s) 0.0545\n",
            "In epoch 175 | loss: 0.000 | val acc: 0.580 | (best 0.600) | test acc: 0.582 | (best 0.575) | Time(s) 0.0541\n",
            "In epoch 180 | loss: 0.000 | val acc: 0.582 | (best 0.600) | test acc: 0.585 | (best 0.575) | Time(s) 0.0542\n",
            "In epoch 185 | loss: 0.001 | val acc: 0.574 | (best 0.600) | test acc: 0.583 | (best 0.575) | Time(s) 0.0543\n",
            "In epoch 190 | loss: 0.001 | val acc: 0.588 | (best 0.600) | test acc: 0.572 | (best 0.575) | Time(s) 0.0537\n",
            "In epoch 195 | loss: 0.000 | val acc: 0.592 | (best 0.600) | test acc: 0.571 | (best 0.575) | Time(s) 0.0530\n",
            "In epoch 200 | loss: 0.000 | val acc: 0.576 | (best 0.600) | test acc: 0.579 | (best 0.575) | Time(s) 0.0524\n",
            "\n",
            "---------- + ---------- \n",
            "0.574\n",
            "---------- + ---------- \n",
            "\n",
            "---------- + ---------- \n",
            "Results for run 3.\n",
            "---------- + ----------  \n",
            "\n",
            "In epoch 0 | loss: 0.000 | val acc: 0.590 | (best 0.590) | test acc: 0.573 | (best 0.573) | Time(s) nan\n",
            "In epoch 5 | loss: 0.000 | val acc: 0.580 | (best 0.596) | test acc: 0.568 | (best 0.578) | Time(s) 0.0276\n",
            "In epoch 10 | loss: 0.000 | val acc: 0.572 | (best 0.596) | test acc: 0.562 | (best 0.578) | Time(s) 0.0269\n",
            "In epoch 15 | loss: 0.000 | val acc: 0.578 | (best 0.596) | test acc: 0.570 | (best 0.578) | Time(s) 0.0275\n",
            "In epoch 20 | loss: 0.000 | val acc: 0.574 | (best 0.596) | test acc: 0.566 | (best 0.578) | Time(s) 0.0271\n",
            "In epoch 25 | loss: 0.000 | val acc: 0.584 | (best 0.596) | test acc: 0.575 | (best 0.578) | Time(s) 0.0275\n",
            "In epoch 30 | loss: 0.000 | val acc: 0.586 | (best 0.602) | test acc: 0.581 | (best 0.579) | Time(s) 0.0273\n",
            "In epoch 35 | loss: 0.000 | val acc: 0.586 | (best 0.602) | test acc: 0.591 | (best 0.579) | Time(s) 0.0273\n",
            "In epoch 40 | loss: 0.000 | val acc: 0.576 | (best 0.602) | test acc: 0.576 | (best 0.579) | Time(s) 0.0271\n",
            "In epoch 45 | loss: 0.001 | val acc: 0.584 | (best 0.602) | test acc: 0.575 | (best 0.579) | Time(s) 0.0273\n",
            "In epoch 50 | loss: 0.003 | val acc: 0.588 | (best 0.602) | test acc: 0.568 | (best 0.579) | Time(s) 0.0273\n",
            "In epoch 55 | loss: 0.000 | val acc: 0.608 | (best 0.608) | test acc: 0.558 | (best 0.558) | Time(s) 0.0273\n",
            "In epoch 60 | loss: 0.000 | val acc: 0.606 | (best 0.608) | test acc: 0.570 | (best 0.558) | Time(s) 0.0274\n",
            "In epoch 65 | loss: 0.011 | val acc: 0.582 | (best 0.608) | test acc: 0.557 | (best 0.558) | Time(s) 0.0275\n",
            "In epoch 70 | loss: 0.000 | val acc: 0.584 | (best 0.608) | test acc: 0.572 | (best 0.558) | Time(s) 0.0275\n",
            "In epoch 75 | loss: 0.072 | val acc: 0.568 | (best 0.608) | test acc: 0.560 | (best 0.558) | Time(s) 0.0275\n",
            "In epoch 80 | loss: 0.000 | val acc: 0.582 | (best 0.608) | test acc: 0.563 | (best 0.558) | Time(s) 0.0274\n",
            "In epoch 85 | loss: 0.000 | val acc: 0.576 | (best 0.608) | test acc: 0.555 | (best 0.558) | Time(s) 0.0275\n",
            "In epoch 90 | loss: 0.008 | val acc: 0.566 | (best 0.608) | test acc: 0.558 | (best 0.558) | Time(s) 0.0274\n",
            "In epoch 95 | loss: 0.000 | val acc: 0.578 | (best 0.608) | test acc: 0.566 | (best 0.558) | Time(s) 0.0275\n",
            "In epoch 100 | loss: 0.001 | val acc: 0.572 | (best 0.608) | test acc: 0.562 | (best 0.558) | Time(s) 0.0276\n",
            "In epoch 105 | loss: 0.000 | val acc: 0.568 | (best 0.608) | test acc: 0.566 | (best 0.558) | Time(s) 0.0276\n",
            "In epoch 110 | loss: 0.000 | val acc: 0.580 | (best 0.608) | test acc: 0.566 | (best 0.558) | Time(s) 0.0275\n",
            "In epoch 115 | loss: 0.000 | val acc: 0.586 | (best 0.608) | test acc: 0.561 | (best 0.558) | Time(s) 0.0275\n",
            "In epoch 120 | loss: 0.000 | val acc: 0.582 | (best 0.608) | test acc: 0.570 | (best 0.558) | Time(s) 0.0275\n",
            "In epoch 125 | loss: 0.000 | val acc: 0.582 | (best 0.608) | test acc: 0.568 | (best 0.558) | Time(s) 0.0276\n",
            "In epoch 130 | loss: 0.000 | val acc: 0.582 | (best 0.608) | test acc: 0.576 | (best 0.558) | Time(s) 0.0275\n",
            "In epoch 135 | loss: 0.000 | val acc: 0.582 | (best 0.608) | test acc: 0.559 | (best 0.558) | Time(s) 0.0276\n",
            "In epoch 140 | loss: 0.000 | val acc: 0.580 | (best 0.608) | test acc: 0.565 | (best 0.558) | Time(s) 0.0275\n",
            "In epoch 145 | loss: 0.000 | val acc: 0.582 | (best 0.608) | test acc: 0.557 | (best 0.558) | Time(s) 0.0276\n",
            "In epoch 150 | loss: 0.000 | val acc: 0.592 | (best 0.608) | test acc: 0.574 | (best 0.558) | Time(s) 0.0275\n",
            "In epoch 155 | loss: 0.000 | val acc: 0.566 | (best 0.608) | test acc: 0.560 | (best 0.558) | Time(s) 0.0275\n",
            "In epoch 160 | loss: 0.000 | val acc: 0.576 | (best 0.608) | test acc: 0.563 | (best 0.558) | Time(s) 0.0276\n",
            "In epoch 165 | loss: 0.000 | val acc: 0.568 | (best 0.608) | test acc: 0.564 | (best 0.558) | Time(s) 0.0276\n",
            "In epoch 170 | loss: 0.000 | val acc: 0.546 | (best 0.608) | test acc: 0.557 | (best 0.558) | Time(s) 0.0276\n",
            "In epoch 175 | loss: 0.061 | val acc: 0.556 | (best 0.608) | test acc: 0.545 | (best 0.558) | Time(s) 0.0276\n",
            "In epoch 180 | loss: 0.000 | val acc: 0.564 | (best 0.608) | test acc: 0.542 | (best 0.558) | Time(s) 0.0276\n",
            "In epoch 185 | loss: 0.000 | val acc: 0.568 | (best 0.608) | test acc: 0.550 | (best 0.558) | Time(s) 0.0277\n",
            "In epoch 190 | loss: 0.000 | val acc: 0.568 | (best 0.608) | test acc: 0.554 | (best 0.558) | Time(s) 0.0277\n",
            "In epoch 195 | loss: 0.000 | val acc: 0.558 | (best 0.608) | test acc: 0.558 | (best 0.558) | Time(s) 0.0277\n",
            "In epoch 200 | loss: 0.000 | val acc: 0.556 | (best 0.608) | test acc: 0.547 | (best 0.558) | Time(s) 0.0277\n",
            "\n",
            "---------- + ---------- \n",
            "0.542\n",
            "---------- + ---------- \n",
            "\n",
            "---------- + ---------- \n",
            "Results for run 4.\n",
            "---------- + ----------  \n",
            "\n",
            "In epoch 0 | loss: 0.000 | val acc: 0.556 | (best 0.556) | test acc: 0.558 | (best 0.558) | Time(s) nan\n",
            "In epoch 5 | loss: 0.000 | val acc: 0.556 | (best 0.558) | test acc: 0.545 | (best 0.547) | Time(s) 0.0311\n",
            "In epoch 10 | loss: 0.000 | val acc: 0.558 | (best 0.564) | test acc: 0.561 | (best 0.547) | Time(s) 0.0290\n",
            "In epoch 15 | loss: 0.001 | val acc: 0.560 | (best 0.564) | test acc: 0.565 | (best 0.547) | Time(s) 0.0287\n",
            "In epoch 20 | loss: 0.000 | val acc: 0.546 | (best 0.574) | test acc: 0.551 | (best 0.556) | Time(s) 0.0285\n",
            "In epoch 25 | loss: 0.000 | val acc: 0.566 | (best 0.574) | test acc: 0.541 | (best 0.556) | Time(s) 0.0287\n",
            "In epoch 30 | loss: 0.000 | val acc: 0.556 | (best 0.574) | test acc: 0.561 | (best 0.556) | Time(s) 0.0288\n",
            "In epoch 35 | loss: 0.000 | val acc: 0.554 | (best 0.580) | test acc: 0.559 | (best 0.551) | Time(s) 0.0287\n",
            "In epoch 40 | loss: 0.000 | val acc: 0.584 | (best 0.584) | test acc: 0.559 | (best 0.559) | Time(s) 0.0287\n",
            "In epoch 45 | loss: 0.000 | val acc: 0.574 | (best 0.584) | test acc: 0.562 | (best 0.559) | Time(s) 0.0289\n",
            "In epoch 50 | loss: 0.000 | val acc: 0.580 | (best 0.584) | test acc: 0.552 | (best 0.559) | Time(s) 0.0288\n",
            "In epoch 55 | loss: 0.000 | val acc: 0.574 | (best 0.584) | test acc: 0.544 | (best 0.559) | Time(s) 0.0288\n",
            "In epoch 60 | loss: 0.000 | val acc: 0.562 | (best 0.584) | test acc: 0.540 | (best 0.559) | Time(s) 0.0286\n",
            "In epoch 65 | loss: 0.000 | val acc: 0.562 | (best 0.584) | test acc: 0.554 | (best 0.559) | Time(s) 0.0287\n",
            "In epoch 70 | loss: 0.000 | val acc: 0.538 | (best 0.584) | test acc: 0.547 | (best 0.559) | Time(s) 0.0287\n",
            "In epoch 75 | loss: 0.000 | val acc: 0.544 | (best 0.584) | test acc: 0.548 | (best 0.559) | Time(s) 0.0286\n",
            "In epoch 80 | loss: 0.000 | val acc: 0.554 | (best 0.584) | test acc: 0.546 | (best 0.559) | Time(s) 0.0286\n",
            "In epoch 85 | loss: 0.000 | val acc: 0.546 | (best 0.584) | test acc: 0.546 | (best 0.559) | Time(s) 0.0287\n",
            "In epoch 90 | loss: 0.000 | val acc: 0.566 | (best 0.584) | test acc: 0.554 | (best 0.559) | Time(s) 0.0287\n",
            "In epoch 95 | loss: 0.001 | val acc: 0.552 | (best 0.584) | test acc: 0.542 | (best 0.559) | Time(s) 0.0286\n",
            "In epoch 100 | loss: 0.000 | val acc: 0.556 | (best 0.584) | test acc: 0.543 | (best 0.559) | Time(s) 0.0286\n",
            "In epoch 105 | loss: 0.000 | val acc: 0.558 | (best 0.584) | test acc: 0.526 | (best 0.559) | Time(s) 0.0286\n",
            "In epoch 110 | loss: 0.000 | val acc: 0.554 | (best 0.584) | test acc: 0.542 | (best 0.559) | Time(s) 0.0286\n",
            "In epoch 115 | loss: 0.000 | val acc: 0.556 | (best 0.584) | test acc: 0.531 | (best 0.559) | Time(s) 0.0286\n",
            "In epoch 120 | loss: 0.000 | val acc: 0.562 | (best 0.584) | test acc: 0.549 | (best 0.559) | Time(s) 0.0285\n",
            "In epoch 125 | loss: 0.011 | val acc: 0.562 | (best 0.584) | test acc: 0.557 | (best 0.559) | Time(s) 0.0285\n",
            "In epoch 130 | loss: 0.001 | val acc: 0.558 | (best 0.584) | test acc: 0.538 | (best 0.559) | Time(s) 0.0284\n",
            "In epoch 135 | loss: 0.000 | val acc: 0.560 | (best 0.584) | test acc: 0.535 | (best 0.559) | Time(s) 0.0284\n",
            "In epoch 140 | loss: 0.011 | val acc: 0.542 | (best 0.584) | test acc: 0.532 | (best 0.559) | Time(s) 0.0284\n",
            "In epoch 145 | loss: 0.000 | val acc: 0.552 | (best 0.584) | test acc: 0.532 | (best 0.559) | Time(s) 0.0284\n",
            "In epoch 150 | loss: 0.000 | val acc: 0.556 | (best 0.584) | test acc: 0.529 | (best 0.559) | Time(s) 0.0284\n",
            "In epoch 155 | loss: 0.000 | val acc: 0.548 | (best 0.584) | test acc: 0.536 | (best 0.559) | Time(s) 0.0284\n",
            "In epoch 160 | loss: 0.000 | val acc: 0.544 | (best 0.584) | test acc: 0.540 | (best 0.559) | Time(s) 0.0284\n",
            "In epoch 165 | loss: 0.000 | val acc: 0.548 | (best 0.584) | test acc: 0.524 | (best 0.559) | Time(s) 0.0284\n",
            "In epoch 170 | loss: 0.000 | val acc: 0.544 | (best 0.584) | test acc: 0.529 | (best 0.559) | Time(s) 0.0284\n",
            "In epoch 175 | loss: 0.000 | val acc: 0.544 | (best 0.584) | test acc: 0.537 | (best 0.559) | Time(s) 0.0284\n",
            "In epoch 180 | loss: 0.000 | val acc: 0.542 | (best 0.584) | test acc: 0.547 | (best 0.559) | Time(s) 0.0284\n",
            "In epoch 185 | loss: 0.001 | val acc: 0.550 | (best 0.584) | test acc: 0.553 | (best 0.559) | Time(s) 0.0284\n",
            "In epoch 190 | loss: 0.071 | val acc: 0.566 | (best 0.584) | test acc: 0.552 | (best 0.559) | Time(s) 0.0284\n",
            "In epoch 195 | loss: 0.000 | val acc: 0.552 | (best 0.584) | test acc: 0.548 | (best 0.559) | Time(s) 0.0284\n",
            "In epoch 200 | loss: 0.000 | val acc: 0.556 | (best 0.584) | test acc: 0.532 | (best 0.559) | Time(s) 0.0284\n",
            "\n",
            "---------- + ---------- \n",
            "0.53\n",
            "---------- + ---------- \n",
            "\n",
            "---------- + ---------- \n",
            "Results for run 5.\n",
            "---------- + ----------  \n",
            "\n",
            "In epoch 0 | loss: 0.000 | val acc: 0.542 | (best 0.542) | test acc: 0.547 | (best 0.547) | Time(s) nan\n",
            "In epoch 5 | loss: 0.000 | val acc: 0.562 | (best 0.566) | test acc: 0.565 | (best 0.544) | Time(s) 0.0286\n",
            "In epoch 10 | loss: 0.000 | val acc: 0.544 | (best 0.566) | test acc: 0.557 | (best 0.544) | Time(s) 0.0288\n",
            "In epoch 15 | loss: 0.000 | val acc: 0.576 | (best 0.588) | test acc: 0.573 | (best 0.573) | Time(s) 0.0291\n",
            "In epoch 20 | loss: 0.000 | val acc: 0.566 | (best 0.590) | test acc: 0.576 | (best 0.578) | Time(s) 0.0292\n",
            "In epoch 25 | loss: 0.000 | val acc: 0.574 | (best 0.594) | test acc: 0.576 | (best 0.570) | Time(s) 0.0291\n",
            "In epoch 30 | loss: 0.000 | val acc: 0.574 | (best 0.594) | test acc: 0.569 | (best 0.570) | Time(s) 0.0288\n",
            "In epoch 35 | loss: 0.000 | val acc: 0.576 | (best 0.594) | test acc: 0.576 | (best 0.570) | Time(s) 0.0287\n",
            "In epoch 40 | loss: 0.000 | val acc: 0.566 | (best 0.594) | test acc: 0.569 | (best 0.570) | Time(s) 0.0287\n",
            "In epoch 45 | loss: 0.000 | val acc: 0.574 | (best 0.594) | test acc: 0.566 | (best 0.570) | Time(s) 0.0288\n",
            "In epoch 50 | loss: 0.000 | val acc: 0.574 | (best 0.594) | test acc: 0.564 | (best 0.570) | Time(s) 0.0288\n",
            "In epoch 55 | loss: 0.000 | val acc: 0.578 | (best 0.594) | test acc: 0.566 | (best 0.570) | Time(s) 0.0289\n",
            "In epoch 60 | loss: 0.039 | val acc: 0.580 | (best 0.596) | test acc: 0.564 | (best 0.560) | Time(s) 0.0289\n",
            "In epoch 65 | loss: 0.000 | val acc: 0.604 | (best 0.604) | test acc: 0.582 | (best 0.582) | Time(s) 0.0289\n",
            "In epoch 70 | loss: 0.000 | val acc: 0.584 | (best 0.604) | test acc: 0.562 | (best 0.582) | Time(s) 0.0288\n",
            "In epoch 75 | loss: 0.000 | val acc: 0.576 | (best 0.604) | test acc: 0.552 | (best 0.582) | Time(s) 0.0288\n",
            "In epoch 80 | loss: 0.205 | val acc: 0.554 | (best 0.604) | test acc: 0.538 | (best 0.582) | Time(s) 0.0287\n",
            "In epoch 85 | loss: 0.000 | val acc: 0.560 | (best 0.604) | test acc: 0.556 | (best 0.582) | Time(s) 0.0287\n",
            "In epoch 90 | loss: 0.000 | val acc: 0.570 | (best 0.604) | test acc: 0.579 | (best 0.582) | Time(s) 0.0288\n",
            "In epoch 95 | loss: 0.000 | val acc: 0.572 | (best 0.604) | test acc: 0.575 | (best 0.582) | Time(s) 0.0288\n",
            "In epoch 100 | loss: 0.051 | val acc: 0.564 | (best 0.604) | test acc: 0.557 | (best 0.582) | Time(s) 0.0287\n",
            "In epoch 105 | loss: 0.002 | val acc: 0.562 | (best 0.604) | test acc: 0.568 | (best 0.582) | Time(s) 0.0287\n",
            "In epoch 110 | loss: 0.000 | val acc: 0.542 | (best 0.604) | test acc: 0.552 | (best 0.582) | Time(s) 0.0287\n",
            "In epoch 115 | loss: 0.000 | val acc: 0.560 | (best 0.604) | test acc: 0.551 | (best 0.582) | Time(s) 0.0287\n",
            "In epoch 120 | loss: 0.099 | val acc: 0.558 | (best 0.604) | test acc: 0.566 | (best 0.582) | Time(s) 0.0287\n",
            "In epoch 125 | loss: 0.000 | val acc: 0.580 | (best 0.604) | test acc: 0.567 | (best 0.582) | Time(s) 0.0287\n",
            "In epoch 130 | loss: 0.000 | val acc: 0.564 | (best 0.604) | test acc: 0.563 | (best 0.582) | Time(s) 0.0287\n",
            "In epoch 135 | loss: 0.000 | val acc: 0.580 | (best 0.604) | test acc: 0.557 | (best 0.582) | Time(s) 0.0287\n",
            "In epoch 140 | loss: 0.000 | val acc: 0.560 | (best 0.604) | test acc: 0.534 | (best 0.582) | Time(s) 0.0287\n",
            "In epoch 145 | loss: 0.000 | val acc: 0.546 | (best 0.604) | test acc: 0.556 | (best 0.582) | Time(s) 0.0287\n",
            "In epoch 150 | loss: 0.000 | val acc: 0.564 | (best 0.604) | test acc: 0.526 | (best 0.582) | Time(s) 0.0286\n",
            "In epoch 155 | loss: 0.000 | val acc: 0.548 | (best 0.604) | test acc: 0.548 | (best 0.582) | Time(s) 0.0287\n",
            "In epoch 160 | loss: 0.000 | val acc: 0.556 | (best 0.604) | test acc: 0.541 | (best 0.582) | Time(s) 0.0287\n",
            "In epoch 165 | loss: 0.000 | val acc: 0.566 | (best 0.604) | test acc: 0.543 | (best 0.582) | Time(s) 0.0287\n",
            "In epoch 170 | loss: 0.000 | val acc: 0.554 | (best 0.604) | test acc: 0.553 | (best 0.582) | Time(s) 0.0287\n",
            "In epoch 175 | loss: 0.000 | val acc: 0.558 | (best 0.604) | test acc: 0.560 | (best 0.582) | Time(s) 0.0287\n",
            "In epoch 180 | loss: 0.000 | val acc: 0.556 | (best 0.604) | test acc: 0.555 | (best 0.582) | Time(s) 0.0287\n",
            "In epoch 185 | loss: 0.000 | val acc: 0.564 | (best 0.604) | test acc: 0.536 | (best 0.582) | Time(s) 0.0287\n",
            "In epoch 190 | loss: 0.000 | val acc: 0.552 | (best 0.604) | test acc: 0.549 | (best 0.582) | Time(s) 0.0287\n",
            "In epoch 195 | loss: 0.000 | val acc: 0.550 | (best 0.604) | test acc: 0.544 | (best 0.582) | Time(s) 0.0287\n",
            "In epoch 200 | loss: 0.000 | val acc: 0.560 | (best 0.604) | test acc: 0.541 | (best 0.582) | Time(s) 0.0287\n",
            "\n",
            "---------- + ---------- \n",
            "0.555\n",
            "---------- + ---------- \n"
          ]
        }
      ]
    },
    {
      "cell_type": "code",
      "source": [
        "print('Test accuracy for {} runs:'.format(i),test_acc_gl)\n",
        "print('Best test accuracy for {} runs:'.format(i),best_test_acc)"
      ],
      "metadata": {
        "colab": {
          "base_uri": "https://localhost:8080/"
        },
        "id": "QkPX9-CZE2Ho",
        "outputId": "0c1a4afb-fbf6-41d5-9ff7-a7f68cdce6ad"
      },
      "execution_count": null,
      "outputs": [
        {
          "output_type": "stream",
          "name": "stdout",
          "text": [
            "Test accuracy for 5 runs: [0.5680000185966492, 0.5789999961853027, 0.546999990940094, 0.5320000052452087, 0.5410000085830688]\n",
            "Best test accuracy for 5 runs: [0.5680000185966492, 0.574999988079071, 0.5580000281333923, 0.5590000152587891, 0.5820000171661377]\n"
          ]
        }
      ]
    },
    {
      "cell_type": "code",
      "source": [
        "df = pd.DataFrame([[np.mean(test_acc_gl),np.mean(best_test_acc),np.mean(times)]],columns=['Avg. Accuracy','Best Avg. Accuracy','Execution Time'])\n",
        "df.style.set_table_styles([dict(selector='th', props=[('text-align', 'center')])])"
      ],
      "metadata": {
        "colab": {
          "base_uri": "https://localhost:8080/",
          "height": 81
        },
        "id": "SmHGaq6XE2Nb",
        "outputId": "c6832273-0ca4-4c9b-9229-791f337fbfc3"
      },
      "execution_count": null,
      "outputs": [
        {
          "output_type": "execute_result",
          "data": {
            "text/html": [
              "<style  type=\"text/css\" >\n",
              "    #T_5534be5c_5f27_11ec_bb3f_0242ac1c0002 th {\n",
              "          text-align: center;\n",
              "    }</style><table id=\"T_5534be5c_5f27_11ec_bb3f_0242ac1c0002\" class=\"dataframe\"><thead>    <tr>        <th class=\"blank level0\" ></th>        <th class=\"col_heading level0 col0\" >Avg. Accuracy</th>        <th class=\"col_heading level0 col1\" >Best Avg. Accuracy</th>        <th class=\"col_heading level0 col2\" >Execution Time</th>    </tr></thead><tbody>\n",
              "                <tr>\n",
              "                        <th id=\"T_5534be5c_5f27_11ec_bb3f_0242ac1c0002level0_row0\" class=\"row_heading level0 row0\" >0</th>\n",
              "                        <td id=\"T_5534be5c_5f27_11ec_bb3f_0242ac1c0002row0_col0\" class=\"data row0 col0\" >0.553400</td>\n",
              "                        <td id=\"T_5534be5c_5f27_11ec_bb3f_0242ac1c0002row0_col1\" class=\"data row0 col1\" >0.568400</td>\n",
              "                        <td id=\"T_5534be5c_5f27_11ec_bb3f_0242ac1c0002row0_col2\" class=\"data row0 col2\" >0.035519</td>\n",
              "            </tr>\n",
              "    </tbody></table>"
            ],
            "text/plain": [
              "<pandas.io.formats.style.Styler at 0x7f54b4288150>"
            ]
          },
          "metadata": {},
          "execution_count": 12
        }
      ]
    },
    {
      "cell_type": "code",
      "source": [
        "avg_loss = np.mean(loss_all, 0)\n",
        "avg_acctest = np.mean(accTest_all,0)\n",
        "\n",
        "fig, (ax1, ax2) = plt.subplots(1, 2, figsize=(15, 5))\n",
        "fig.suptitle('Wavelet Feature transformation')\n",
        "ax1.plot(range(len(avg_loss)), avg_loss, 'tab:red')\n",
        "ax1.set(title='Convergence - {}-run average'.format(i), ylabel='Loss value', xlabel='Epochs')\n",
        "ax1.grid(True)\n",
        "ax2.plot(range(len(avg_acctest)), avg_acctest, 'tab:green')\n",
        "ax2.set(title='Accuracy - {}-run average'.format(i), ylabel='Accuracy value', xlabel='Epochs')\n",
        "ax2.grid(True)"
      ],
      "metadata": {
        "colab": {
          "base_uri": "https://localhost:8080/",
          "height": 370
        },
        "id": "or7PWiH3E5ND",
        "outputId": "37ec89ba-f863-4c8a-a42f-1769e2707a63"
      },
      "execution_count": null,
      "outputs": [
        {
          "output_type": "display_data",
          "data": {
            "image/png": "[encoded data removed]",
            "text/plain": [
              "<Figure size 1080x360 with 2 Axes>"
            ]
          },
          "metadata": {
            "needs_background": "light"
          }
        }
      ]
    },
    {
      "cell_type": "code",
      "source": [
        "np.mean(times) + aug_time"
      ],
      "metadata": {
        "id": "1-U4eBjOIZgG",
        "colab": {
          "base_uri": "https://localhost:8080/"
        },
        "outputId": "40adb233-3497-4faa-db64-f818b7d68e68"
      },
      "execution_count": null,
      "outputs": [
        {
          "output_type": "execute_result",
          "data": {
            "text/plain": [
              "0.1830604154446737"
            ]
          },
          "metadata": {},
          "execution_count": 14
        }
      ]
    },
    {
      "cell_type": "code",
      "source": [
        ""
      ],
      "metadata": {
        "id": "yI5hw5n16Frm"
      },
      "execution_count": null,
      "outputs": []
    }
  ]
}